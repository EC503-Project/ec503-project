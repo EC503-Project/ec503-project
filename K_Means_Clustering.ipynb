{
 "cells": [
  {
   "cell_type": "markdown",
   "id": "8a6eada4-020b-4d85-ade9-1d37b124ab12",
   "metadata": {},
   "source": [
    "#### Kmeans Clustering Implementation: Unsupervised Learning"
   ]
  },
  {
   "cell_type": "code",
   "execution_count": 6,
   "id": "369ce217-e295-4927-9f98-07133fe7a24a",
   "metadata": {},
   "outputs": [],
   "source": [
    "import numpy as np\n",
    "from preprocess import dfs_train, dfs_test, no_outliers_dfs_train, no_outliers_dfs_test, masked_dfs_train, masked_dfs_test, imbalanced_dfs_train, imbalanced_dfs_test\n",
    "from matplotlib import pyplot as plt\n",
    "from sklearn.datasets import make_blobs"
   ]
  },
  {
   "cell_type": "markdown",
   "id": "d0e0ada6-ee2b-4956-b4d7-1803730a2224",
   "metadata": {},
   "source": [
    "### Data Prep"
   ]
  },
  {
   "cell_type": "markdown",
   "id": "a7483eee-fafb-4680-9da6-db2946518ab3",
   "metadata": {},
   "source": [
    "###### Testing"
   ]
  },
  {
   "cell_type": "code",
   "execution_count": 7,
   "id": "4f75949f-101f-4aa2-911a-6ff83a846417",
   "metadata": {},
   "outputs": [],
   "source": [
    "# X,y=make_blobs(n_samples=500, centers=5, random_state=6, n_features=2)\n",
    "# for all train/test\n",
    "X = dfs_train[0]"
   ]
  },
  {
   "cell_type": "markdown",
   "id": "9e864af4-926b-480f-9a69-602a5252c466",
   "metadata": {},
   "source": [
    "#### Algorithm"
   ]
  },
  {
   "cell_type": "code",
   "execution_count": 8,
   "id": "a546858c-58db-4a4d-ae30-15d667c33e6a",
   "metadata": {},
   "outputs": [],
   "source": [
    "k = 5\n",
    "color  = [\"green\",\"red\",\"blue\",\"yellow\",\"orange\"]\n",
    "clusters = {}\n",
    "#adapt to preprocessed data\n",
    "for i in range(k):\n",
    "    center = 10*(2*np.random.random((X.shape[1],))-1)\n",
    "    points = []\n",
    "\n",
    "    cluster = {\n",
    "        'center':center,\n",
    "        'points':points,\n",
    "        'color': color[i]\n",
    "        }\n",
    "\n",
    "    clusters[i] = cluster"
   ]
  },
  {
   "cell_type": "code",
   "execution_count": 9,
   "id": "cffa6124-4d1d-46a5-8eaa-d9e3fcecf557",
   "metadata": {},
   "outputs": [],
   "source": [
    "def distance(v1,v2):\n",
    "    return np.sqrt(np.sum((v1-v2)**2))"
   ]
  },
  {
   "cell_type": "code",
   "execution_count": 10,
   "id": "61b03c84-98fe-4acf-90b4-700513a4ba0f",
   "metadata": {},
   "outputs": [],
   "source": [
    "# Assign every data point to one of the clusters\n",
    "def assignPointToClusters(clusters): #E-Step\n",
    "    for ix in range(X.shape[0]):\n",
    "        dist = []\n",
    "        curr_x = X[ix]\n",
    "\n",
    "        for kx in range(k):\n",
    "            d = distance(curr_x,clusters[kx]['center'])\n",
    "            dist.append(d)\n",
    "\n",
    "        current_cluster = np.argmin(dist)\n",
    "        clusters[current_cluster]['points'].append(curr_x)\n",
    "\n",
    "def updateClusters(clusters): # M-Step -> We update every cluster center according to the mean of the points in it\n",
    "    for kx in range(k):\n",
    "        pts = np.array(clusters[kx]['points'])\n",
    "\n",
    "        if pts.shape[0]>0: #If a cluster has some-nonzero points\n",
    "            new_u = pts.mean(axis=0)\n",
    "            clusters[kx]['center'] = new_u\n",
    "            clusters[kx]['points'] = [] #Clear the list\n",
    "\n",
    "def plotClusters(clusters):\n",
    "    for kx in range(k):\n",
    "        #print(len(clusters[kx]['points']))\n",
    "\n",
    "        pts = np.array(clusters[kx]['points'])\n",
    "        #print(pts.shape)\n",
    "\n",
    "        #Plot the points\n",
    "        try:\n",
    "            plt.scatter(pts[:,0],pts[:,1],color=clusters[kx]['color'])\n",
    "        except:\n",
    "            pass\n",
    "\n",
    "        #Plot the cluster center\n",
    "        uk = clusters[kx]['center']\n",
    "        plt.scatter(uk[0],uk[1],color=\"black\",marker=\"*\")"
   ]
  },
  {
   "cell_type": "code",
   "execution_count": 11,
   "id": "c8780e58-7d15-456d-8899-c32387ec3467",
   "metadata": {},
   "outputs": [
    {
     "data": {
      "image/png": "[encoded data removed]",
      "text/plain": [
       "<Figure size 640x480 with 1 Axes>"
      ]
     },
     "metadata": {},
     "output_type": "display_data"
    }
   ],
   "source": [
    "plotClusters(clusters)"
   ]
  },
  {
   "cell_type": "code",
   "execution_count": 12,
   "id": "3666a7ac-b367-4c41-bc30-256bec7615e6",
   "metadata": {},
   "outputs": [
    {
     "ename": "KeyError",
     "evalue": "0",
     "output_type": "error",
     "traceback": [
      "\u001b[0;31m---------------------------------------------------------------------------\u001b[0m",
      "\u001b[0;31mKeyError\u001b[0m                                  Traceback (most recent call last)",
      "File \u001b[0;32m~/opt/anaconda3/lib/python3.9/site-packages/pandas/core/indexes/base.py:3802\u001b[0m, in \u001b[0;36mIndex.get_loc\u001b[0;34m(self, key, method, tolerance)\u001b[0m\n\u001b[1;32m   3801\u001b[0m \u001b[38;5;28;01mtry\u001b[39;00m:\n\u001b[0;32m-> 3802\u001b[0m     \u001b[38;5;28;01mreturn\u001b[39;00m \u001b[38;5;28;43mself\u001b[39;49m\u001b[38;5;241;43m.\u001b[39;49m\u001b[43m_engine\u001b[49m\u001b[38;5;241;43m.\u001b[39;49m\u001b[43mget_loc\u001b[49m\u001b[43m(\u001b[49m\u001b[43mcasted_key\u001b[49m\u001b[43m)\u001b[49m\n\u001b[1;32m   3803\u001b[0m \u001b[38;5;28;01mexcept\u001b[39;00m \u001b[38;5;167;01mKeyError\u001b[39;00m \u001b[38;5;28;01mas\u001b[39;00m err:\n",
      "File \u001b[0;32m~/opt/anaconda3/lib/python3.9/site-packages/pandas/_libs/index.pyx:138\u001b[0m, in \u001b[0;36mpandas._libs.index.IndexEngine.get_loc\u001b[0;34m()\u001b[0m\n",
      "File \u001b[0;32m~/opt/anaconda3/lib/python3.9/site-packages/pandas/_libs/index.pyx:165\u001b[0m, in \u001b[0;36mpandas._libs.index.IndexEngine.get_loc\u001b[0;34m()\u001b[0m\n",
      "File \u001b[0;32mpandas/_libs/hashtable_class_helper.pxi:5745\u001b[0m, in \u001b[0;36mpandas._libs.hashtable.PyObjectHashTable.get_item\u001b[0;34m()\u001b[0m\n",
      "File \u001b[0;32mpandas/_libs/hashtable_class_helper.pxi:5753\u001b[0m, in \u001b[0;36mpandas._libs.hashtable.PyObjectHashTable.get_item\u001b[0;34m()\u001b[0m\n",
      "\u001b[0;31mKeyError\u001b[0m: 0",
      "\nThe above exception was the direct cause of the following exception:\n",
      "\u001b[0;31mKeyError\u001b[0m                                  Traceback (most recent call last)",
      "Cell \u001b[0;32mIn[12], line 2\u001b[0m\n\u001b[1;32m      1\u001b[0m \u001b[38;5;66;03m# Repeat this cell few times or put it inside a loop\u001b[39;00m\n\u001b[0;32m----> 2\u001b[0m \u001b[43massignPointToClusters\u001b[49m\u001b[43m(\u001b[49m\u001b[43mclusters\u001b[49m\u001b[43m)\u001b[49m\n\u001b[1;32m      3\u001b[0m plotClusters(clusters)\n\u001b[1;32m      4\u001b[0m updateClusters(clusters)\n",
      "Cell \u001b[0;32mIn[10], line 5\u001b[0m, in \u001b[0;36massignPointToClusters\u001b[0;34m(clusters)\u001b[0m\n\u001b[1;32m      3\u001b[0m \u001b[38;5;28;01mfor\u001b[39;00m ix \u001b[38;5;129;01min\u001b[39;00m \u001b[38;5;28mrange\u001b[39m(X\u001b[38;5;241m.\u001b[39mshape[\u001b[38;5;241m0\u001b[39m]):\n\u001b[1;32m      4\u001b[0m     dist \u001b[38;5;241m=\u001b[39m []\n\u001b[0;32m----> 5\u001b[0m     curr_x \u001b[38;5;241m=\u001b[39m \u001b[43mX\u001b[49m\u001b[43m[\u001b[49m\u001b[43mix\u001b[49m\u001b[43m]\u001b[49m\n\u001b[1;32m      7\u001b[0m     \u001b[38;5;28;01mfor\u001b[39;00m kx \u001b[38;5;129;01min\u001b[39;00m \u001b[38;5;28mrange\u001b[39m(k):\n\u001b[1;32m      8\u001b[0m         d \u001b[38;5;241m=\u001b[39m distance(curr_x,clusters[kx][\u001b[38;5;124m'\u001b[39m\u001b[38;5;124mcenter\u001b[39m\u001b[38;5;124m'\u001b[39m])\n",
      "File \u001b[0;32m~/opt/anaconda3/lib/python3.9/site-packages/pandas/core/frame.py:3807\u001b[0m, in \u001b[0;36mDataFrame.__getitem__\u001b[0;34m(self, key)\u001b[0m\n\u001b[1;32m   3805\u001b[0m \u001b[38;5;28;01mif\u001b[39;00m \u001b[38;5;28mself\u001b[39m\u001b[38;5;241m.\u001b[39mcolumns\u001b[38;5;241m.\u001b[39mnlevels \u001b[38;5;241m>\u001b[39m \u001b[38;5;241m1\u001b[39m:\n\u001b[1;32m   3806\u001b[0m     \u001b[38;5;28;01mreturn\u001b[39;00m \u001b[38;5;28mself\u001b[39m\u001b[38;5;241m.\u001b[39m_getitem_multilevel(key)\n\u001b[0;32m-> 3807\u001b[0m indexer \u001b[38;5;241m=\u001b[39m \u001b[38;5;28;43mself\u001b[39;49m\u001b[38;5;241;43m.\u001b[39;49m\u001b[43mcolumns\u001b[49m\u001b[38;5;241;43m.\u001b[39;49m\u001b[43mget_loc\u001b[49m\u001b[43m(\u001b[49m\u001b[43mkey\u001b[49m\u001b[43m)\u001b[49m\n\u001b[1;32m   3808\u001b[0m \u001b[38;5;28;01mif\u001b[39;00m is_integer(indexer):\n\u001b[1;32m   3809\u001b[0m     indexer \u001b[38;5;241m=\u001b[39m [indexer]\n",
      "File \u001b[0;32m~/opt/anaconda3/lib/python3.9/site-packages/pandas/core/indexes/base.py:3804\u001b[0m, in \u001b[0;36mIndex.get_loc\u001b[0;34m(self, key, method, tolerance)\u001b[0m\n\u001b[1;32m   3802\u001b[0m     \u001b[38;5;28;01mreturn\u001b[39;00m \u001b[38;5;28mself\u001b[39m\u001b[38;5;241m.\u001b[39m_engine\u001b[38;5;241m.\u001b[39mget_loc(casted_key)\n\u001b[1;32m   3803\u001b[0m \u001b[38;5;28;01mexcept\u001b[39;00m \u001b[38;5;167;01mKeyError\u001b[39;00m \u001b[38;5;28;01mas\u001b[39;00m err:\n\u001b[0;32m-> 3804\u001b[0m     \u001b[38;5;28;01mraise\u001b[39;00m \u001b[38;5;167;01mKeyError\u001b[39;00m(key) \u001b[38;5;28;01mfrom\u001b[39;00m \u001b[38;5;21;01merr\u001b[39;00m\n\u001b[1;32m   3805\u001b[0m \u001b[38;5;28;01mexcept\u001b[39;00m \u001b[38;5;167;01mTypeError\u001b[39;00m:\n\u001b[1;32m   3806\u001b[0m     \u001b[38;5;66;03m# If we have a listlike key, _check_indexing_error will raise\u001b[39;00m\n\u001b[1;32m   3807\u001b[0m     \u001b[38;5;66;03m#  InvalidIndexError. Otherwise we fall through and re-raise\u001b[39;00m\n\u001b[1;32m   3808\u001b[0m     \u001b[38;5;66;03m#  the TypeError.\u001b[39;00m\n\u001b[1;32m   3809\u001b[0m     \u001b[38;5;28mself\u001b[39m\u001b[38;5;241m.\u001b[39m_check_indexing_error(key)\n",
      "\u001b[0;31mKeyError\u001b[0m: 0"
     ]
    }
   ],
   "source": [
    "# Repeat this cell few times or put it inside a loop\n",
    "assignPointToClusters(clusters)\n",
    "plotClusters(clusters)\n",
    "updateClusters(clusters)"
   ]
  },
  {
   "cell_type": "code",
   "execution_count": null,
   "id": "db971d0f-d97e-4ab0-88fc-b892b08d654d",
   "metadata": {},
   "outputs": [],
   "source": []
  }
 ],
 "metadata": {
  "kernelspec": {
   "display_name": "Python 3 (ipykernel)",
   "language": "python",
   "name": "python3"
  },
  "language_info": {
   "codemirror_mode": {
    "name": "ipython",
    "version": 3
   },
   "file_extension": ".py",
   "mimetype": "text/x-python",
   "name": "python",
   "nbconvert_exporter": "python",
   "pygments_lexer": "ipython3",
   "version": "3.9.12"
  }
 },
 "nbformat": 4,
 "nbformat_minor": 5
}
